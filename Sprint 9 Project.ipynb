{
 "cells": [
  {
   "cell_type": "markdown",
   "metadata": {},
   "source": [
    "# Sprint 9 Project: OilyGiant well recommendation"
   ]
  },
  {
   "cell_type": "markdown",
   "metadata": {},
   "source": [
    "## Project description:\n",
    "\n",
    "You work for the OilyGiant mining company. Your task is to find the best place for a new well.\n",
    "\n",
    "Steps to choose the location:\n",
    "\n",
    "Collect the oil well parameters in the selected region: oil quality and volume of reserves;\n",
    "Build a model for predicting the volume of reserves in the new wells;\n",
    "Pick the oil wells with the highest estimated values;\n",
    "Pick the region with the highest total profit for the selected oil wells.\n",
    "You have data on oil samples from three regions. Parameters of each oil well in the region are already known. Build a model that will help to pick the region with the highest profit margin. Analyze potential profit and risks using the Bootstrapping technique."
   ]
  },
  {
   "cell_type": "markdown",
   "metadata": {},
   "source": [
    "## Introduction\n",
    "\n",
    "This project will involve three datasets: geo_data_0, geo_data_1, and geo_data_2. Each dataset refers to a specific region that is being considered for the construction of new oil wells, and each of the 3 datasets contain the same features including: \n",
    "\n",
    "id — unique oil well identifier\n",
    "\n",
    "f0, f1, f2 — three features of points (their specific meaning is unimportant, but the features themselves are significant)\n",
    "\n",
    "product — volume of reserves in the oil well (thousand barrels).\n",
    "\n",
    "### Other parameters for selecting the region with the highest total profit for selected wells include:\n",
    "\n",
    "When exploring the region, a study of 500 points is carried with picking the best 200 points for the profit calculation.\n",
    "\n",
    "The budget for development of 200 oil wells is 100 USD million.\n",
    "\n",
    "One barrel of raw materials brings 4.5 USD of revenue The revenue from one unit of product is 4,500 dollars (volume of reserves is in thousand barrels).\n",
    "\n",
    "After the risk evaluation, keep only the regions with the risk of losses lower than 2.5%. From the ones that fit the criteria, the region with the highest average profit should be selected.\n",
    "\n",
    "The data is synthetic: contract details and well characteristics are not disclosed.\n",
    "\n",
    "### Approach:\n",
    "\n",
    "I will start by examining and cleaning each dataset. Next, I will train Linear Regression models for each region, along with calculating the average volume of predicted reserves and model RMSE.\n",
    "\n",
    "Before calculating the risk and profit of each individual region, I will calculate the amount of reserves needed to break even.\n",
    "\n",
    "Finally, I will use bootstrapping to find the distribution of profit, calculate the risks, and assess the outcomes."
   ]
  },
  {
   "cell_type": "markdown",
   "metadata": {},
   "source": [
    "## Uploading and preparing data"
   ]
  },
  {
   "cell_type": "code",
   "execution_count": 25,
   "metadata": {},
   "outputs": [],
   "source": [
    "import pandas as pd\n",
    "import numpy as np\n",
    "from sklearn.model_selection import train_test_split\n",
    "from sklearn.model_selection import cross_val_score\n",
    "from scipy import stats as st\n",
    "from sklearn.linear_model import LinearRegression\n",
    "from sklearn.metrics import mean_squared_error\n",
    "from sklearn.preprocessing import StandardScaler\n",
    "from matplotlib import pyplot as plt"
   ]
  },
  {
   "cell_type": "markdown",
   "metadata": {},
   "source": [
    "importing necessary libraries"
   ]
  },
  {
   "cell_type": "code",
   "execution_count": 2,
   "metadata": {},
   "outputs": [],
   "source": [
    "geo_data_0 = pd.read_csv('/datasets/geo_data_0.csv')\n",
    "geo_data_1 = pd.read_csv('/datasets/geo_data_1.csv')\n",
    "geo_data_2 = pd.read_csv('/datasets/geo_data_2.csv')"
   ]
  },
  {
   "cell_type": "markdown",
   "metadata": {},
   "source": [
    "uploading datasets"
   ]
  },
  {
   "cell_type": "code",
   "execution_count": 3,
   "metadata": {
    "scrolled": false
   },
   "outputs": [
    {
     "data": {
      "text/html": [
       "<div>\n",
       "<style scoped>\n",
       "    .dataframe tbody tr th:only-of-type {\n",
       "        vertical-align: middle;\n",
       "    }\n",
       "\n",
       "    .dataframe tbody tr th {\n",
       "        vertical-align: top;\n",
       "    }\n",
       "\n",
       "    .dataframe thead th {\n",
       "        text-align: right;\n",
       "    }\n",
       "</style>\n",
       "<table border=\"1\" class=\"dataframe\">\n",
       "  <thead>\n",
       "    <tr style=\"text-align: right;\">\n",
       "      <th></th>\n",
       "      <th>id</th>\n",
       "      <th>f0</th>\n",
       "      <th>f1</th>\n",
       "      <th>f2</th>\n",
       "      <th>product</th>\n",
       "    </tr>\n",
       "  </thead>\n",
       "  <tbody>\n",
       "    <tr>\n",
       "      <th>0</th>\n",
       "      <td>txEyH</td>\n",
       "      <td>0.705745</td>\n",
       "      <td>-0.497823</td>\n",
       "      <td>1.221170</td>\n",
       "      <td>105.280062</td>\n",
       "    </tr>\n",
       "    <tr>\n",
       "      <th>1</th>\n",
       "      <td>2acmU</td>\n",
       "      <td>1.334711</td>\n",
       "      <td>-0.340164</td>\n",
       "      <td>4.365080</td>\n",
       "      <td>73.037750</td>\n",
       "    </tr>\n",
       "    <tr>\n",
       "      <th>2</th>\n",
       "      <td>409Wp</td>\n",
       "      <td>1.022732</td>\n",
       "      <td>0.151990</td>\n",
       "      <td>1.419926</td>\n",
       "      <td>85.265647</td>\n",
       "    </tr>\n",
       "    <tr>\n",
       "      <th>3</th>\n",
       "      <td>iJLyR</td>\n",
       "      <td>-0.032172</td>\n",
       "      <td>0.139033</td>\n",
       "      <td>2.978566</td>\n",
       "      <td>168.620776</td>\n",
       "    </tr>\n",
       "    <tr>\n",
       "      <th>4</th>\n",
       "      <td>Xdl7t</td>\n",
       "      <td>1.988431</td>\n",
       "      <td>0.155413</td>\n",
       "      <td>4.751769</td>\n",
       "      <td>154.036647</td>\n",
       "    </tr>\n",
       "  </tbody>\n",
       "</table>\n",
       "</div>"
      ],
      "text/plain": [
       "      id        f0        f1        f2     product\n",
       "0  txEyH  0.705745 -0.497823  1.221170  105.280062\n",
       "1  2acmU  1.334711 -0.340164  4.365080   73.037750\n",
       "2  409Wp  1.022732  0.151990  1.419926   85.265647\n",
       "3  iJLyR -0.032172  0.139033  2.978566  168.620776\n",
       "4  Xdl7t  1.988431  0.155413  4.751769  154.036647"
      ]
     },
     "execution_count": 3,
     "metadata": {},
     "output_type": "execute_result"
    }
   ],
   "source": [
    "geo_data_0.head()"
   ]
  },
  {
   "cell_type": "code",
   "execution_count": 4,
   "metadata": {
    "scrolled": true
   },
   "outputs": [
    {
     "name": "stdout",
     "output_type": "stream",
     "text": [
      "<class 'pandas.core.frame.DataFrame'>\n",
      "RangeIndex: 100000 entries, 0 to 99999\n",
      "Data columns (total 5 columns):\n",
      " #   Column   Non-Null Count   Dtype  \n",
      "---  ------   --------------   -----  \n",
      " 0   id       100000 non-null  object \n",
      " 1   f0       100000 non-null  float64\n",
      " 2   f1       100000 non-null  float64\n",
      " 3   f2       100000 non-null  float64\n",
      " 4   product  100000 non-null  float64\n",
      "dtypes: float64(4), object(1)\n",
      "memory usage: 3.8+ MB\n"
     ]
    }
   ],
   "source": [
    "geo_data_0.info()"
   ]
  },
  {
   "cell_type": "code",
   "execution_count": 5,
   "metadata": {},
   "outputs": [
    {
     "data": {
      "text/html": [
       "<div>\n",
       "<style scoped>\n",
       "    .dataframe tbody tr th:only-of-type {\n",
       "        vertical-align: middle;\n",
       "    }\n",
       "\n",
       "    .dataframe tbody tr th {\n",
       "        vertical-align: top;\n",
       "    }\n",
       "\n",
       "    .dataframe thead th {\n",
       "        text-align: right;\n",
       "    }\n",
       "</style>\n",
       "<table border=\"1\" class=\"dataframe\">\n",
       "  <thead>\n",
       "    <tr style=\"text-align: right;\">\n",
       "      <th></th>\n",
       "      <th>id</th>\n",
       "      <th>f0</th>\n",
       "      <th>f1</th>\n",
       "      <th>f2</th>\n",
       "      <th>product</th>\n",
       "    </tr>\n",
       "  </thead>\n",
       "  <tbody>\n",
       "    <tr>\n",
       "      <th>0</th>\n",
       "      <td>kBEdx</td>\n",
       "      <td>-15.001348</td>\n",
       "      <td>-8.276000</td>\n",
       "      <td>-0.005876</td>\n",
       "      <td>3.179103</td>\n",
       "    </tr>\n",
       "    <tr>\n",
       "      <th>1</th>\n",
       "      <td>62mP7</td>\n",
       "      <td>14.272088</td>\n",
       "      <td>-3.475083</td>\n",
       "      <td>0.999183</td>\n",
       "      <td>26.953261</td>\n",
       "    </tr>\n",
       "    <tr>\n",
       "      <th>2</th>\n",
       "      <td>vyE1P</td>\n",
       "      <td>6.263187</td>\n",
       "      <td>-5.948386</td>\n",
       "      <td>5.001160</td>\n",
       "      <td>134.766305</td>\n",
       "    </tr>\n",
       "    <tr>\n",
       "      <th>3</th>\n",
       "      <td>KcrkZ</td>\n",
       "      <td>-13.081196</td>\n",
       "      <td>-11.506057</td>\n",
       "      <td>4.999415</td>\n",
       "      <td>137.945408</td>\n",
       "    </tr>\n",
       "    <tr>\n",
       "      <th>4</th>\n",
       "      <td>AHL4O</td>\n",
       "      <td>12.702195</td>\n",
       "      <td>-8.147433</td>\n",
       "      <td>5.004363</td>\n",
       "      <td>134.766305</td>\n",
       "    </tr>\n",
       "  </tbody>\n",
       "</table>\n",
       "</div>"
      ],
      "text/plain": [
       "      id         f0         f1        f2     product\n",
       "0  kBEdx -15.001348  -8.276000 -0.005876    3.179103\n",
       "1  62mP7  14.272088  -3.475083  0.999183   26.953261\n",
       "2  vyE1P   6.263187  -5.948386  5.001160  134.766305\n",
       "3  KcrkZ -13.081196 -11.506057  4.999415  137.945408\n",
       "4  AHL4O  12.702195  -8.147433  5.004363  134.766305"
      ]
     },
     "execution_count": 5,
     "metadata": {},
     "output_type": "execute_result"
    }
   ],
   "source": [
    "geo_data_1.head()"
   ]
  },
  {
   "cell_type": "code",
   "execution_count": 6,
   "metadata": {},
   "outputs": [
    {
     "name": "stdout",
     "output_type": "stream",
     "text": [
      "<class 'pandas.core.frame.DataFrame'>\n",
      "RangeIndex: 100000 entries, 0 to 99999\n",
      "Data columns (total 5 columns):\n",
      " #   Column   Non-Null Count   Dtype  \n",
      "---  ------   --------------   -----  \n",
      " 0   id       100000 non-null  object \n",
      " 1   f0       100000 non-null  float64\n",
      " 2   f1       100000 non-null  float64\n",
      " 3   f2       100000 non-null  float64\n",
      " 4   product  100000 non-null  float64\n",
      "dtypes: float64(4), object(1)\n",
      "memory usage: 3.8+ MB\n"
     ]
    }
   ],
   "source": [
    "geo_data_1.info()"
   ]
  },
  {
   "cell_type": "code",
   "execution_count": 7,
   "metadata": {
    "scrolled": true
   },
   "outputs": [
    {
     "data": {
      "text/html": [
       "<div>\n",
       "<style scoped>\n",
       "    .dataframe tbody tr th:only-of-type {\n",
       "        vertical-align: middle;\n",
       "    }\n",
       "\n",
       "    .dataframe tbody tr th {\n",
       "        vertical-align: top;\n",
       "    }\n",
       "\n",
       "    .dataframe thead th {\n",
       "        text-align: right;\n",
       "    }\n",
       "</style>\n",
       "<table border=\"1\" class=\"dataframe\">\n",
       "  <thead>\n",
       "    <tr style=\"text-align: right;\">\n",
       "      <th></th>\n",
       "      <th>id</th>\n",
       "      <th>f0</th>\n",
       "      <th>f1</th>\n",
       "      <th>f2</th>\n",
       "      <th>product</th>\n",
       "    </tr>\n",
       "  </thead>\n",
       "  <tbody>\n",
       "    <tr>\n",
       "      <th>0</th>\n",
       "      <td>fwXo0</td>\n",
       "      <td>-1.146987</td>\n",
       "      <td>0.963328</td>\n",
       "      <td>-0.828965</td>\n",
       "      <td>27.758673</td>\n",
       "    </tr>\n",
       "    <tr>\n",
       "      <th>1</th>\n",
       "      <td>WJtFt</td>\n",
       "      <td>0.262778</td>\n",
       "      <td>0.269839</td>\n",
       "      <td>-2.530187</td>\n",
       "      <td>56.069697</td>\n",
       "    </tr>\n",
       "    <tr>\n",
       "      <th>2</th>\n",
       "      <td>ovLUW</td>\n",
       "      <td>0.194587</td>\n",
       "      <td>0.289035</td>\n",
       "      <td>-5.586433</td>\n",
       "      <td>62.871910</td>\n",
       "    </tr>\n",
       "    <tr>\n",
       "      <th>3</th>\n",
       "      <td>q6cA6</td>\n",
       "      <td>2.236060</td>\n",
       "      <td>-0.553760</td>\n",
       "      <td>0.930038</td>\n",
       "      <td>114.572842</td>\n",
       "    </tr>\n",
       "    <tr>\n",
       "      <th>4</th>\n",
       "      <td>WPMUX</td>\n",
       "      <td>-0.515993</td>\n",
       "      <td>1.716266</td>\n",
       "      <td>5.899011</td>\n",
       "      <td>149.600746</td>\n",
       "    </tr>\n",
       "  </tbody>\n",
       "</table>\n",
       "</div>"
      ],
      "text/plain": [
       "      id        f0        f1        f2     product\n",
       "0  fwXo0 -1.146987  0.963328 -0.828965   27.758673\n",
       "1  WJtFt  0.262778  0.269839 -2.530187   56.069697\n",
       "2  ovLUW  0.194587  0.289035 -5.586433   62.871910\n",
       "3  q6cA6  2.236060 -0.553760  0.930038  114.572842\n",
       "4  WPMUX -0.515993  1.716266  5.899011  149.600746"
      ]
     },
     "execution_count": 7,
     "metadata": {},
     "output_type": "execute_result"
    }
   ],
   "source": [
    "geo_data_2.head()"
   ]
  },
  {
   "cell_type": "code",
   "execution_count": 8,
   "metadata": {},
   "outputs": [
    {
     "name": "stdout",
     "output_type": "stream",
     "text": [
      "<class 'pandas.core.frame.DataFrame'>\n",
      "RangeIndex: 100000 entries, 0 to 99999\n",
      "Data columns (total 5 columns):\n",
      " #   Column   Non-Null Count   Dtype  \n",
      "---  ------   --------------   -----  \n",
      " 0   id       100000 non-null  object \n",
      " 1   f0       100000 non-null  float64\n",
      " 2   f1       100000 non-null  float64\n",
      " 3   f2       100000 non-null  float64\n",
      " 4   product  100000 non-null  float64\n",
      "dtypes: float64(4), object(1)\n",
      "memory usage: 3.8+ MB\n"
     ]
    }
   ],
   "source": [
    "geo_data_2.info()"
   ]
  },
  {
   "cell_type": "markdown",
   "metadata": {},
   "source": [
    "After taking a general look at each dataset and calling info(), it appears there are no missing values and that data types are appropriate. However, I will remove irrelevant columns to ensure the model can run smoother and pick up on patterns."
   ]
  },
  {
   "cell_type": "markdown",
   "metadata": {},
   "source": [
    "### Removing Irrelevant Data"
   ]
  },
  {
   "cell_type": "code",
   "execution_count": 9,
   "metadata": {},
   "outputs": [],
   "source": [
    "geo_data_0 = geo_data_0.drop(columns='id')"
   ]
  },
  {
   "cell_type": "code",
   "execution_count": 10,
   "metadata": {},
   "outputs": [],
   "source": [
    "geo_data_1 = geo_data_1.drop(columns='id')"
   ]
  },
  {
   "cell_type": "code",
   "execution_count": 11,
   "metadata": {},
   "outputs": [],
   "source": [
    "geo_data_2 = geo_data_2.drop(columns='id')"
   ]
  },
  {
   "cell_type": "code",
   "execution_count": 12,
   "metadata": {},
   "outputs": [
    {
     "data": {
      "text/html": [
       "<div>\n",
       "<style scoped>\n",
       "    .dataframe tbody tr th:only-of-type {\n",
       "        vertical-align: middle;\n",
       "    }\n",
       "\n",
       "    .dataframe tbody tr th {\n",
       "        vertical-align: top;\n",
       "    }\n",
       "\n",
       "    .dataframe thead th {\n",
       "        text-align: right;\n",
       "    }\n",
       "</style>\n",
       "<table border=\"1\" class=\"dataframe\">\n",
       "  <thead>\n",
       "    <tr style=\"text-align: right;\">\n",
       "      <th></th>\n",
       "      <th>f0</th>\n",
       "      <th>f1</th>\n",
       "      <th>f2</th>\n",
       "      <th>product</th>\n",
       "    </tr>\n",
       "  </thead>\n",
       "  <tbody>\n",
       "    <tr>\n",
       "      <th>0</th>\n",
       "      <td>0.705745</td>\n",
       "      <td>-0.497823</td>\n",
       "      <td>1.221170</td>\n",
       "      <td>105.280062</td>\n",
       "    </tr>\n",
       "    <tr>\n",
       "      <th>1</th>\n",
       "      <td>1.334711</td>\n",
       "      <td>-0.340164</td>\n",
       "      <td>4.365080</td>\n",
       "      <td>73.037750</td>\n",
       "    </tr>\n",
       "    <tr>\n",
       "      <th>2</th>\n",
       "      <td>1.022732</td>\n",
       "      <td>0.151990</td>\n",
       "      <td>1.419926</td>\n",
       "      <td>85.265647</td>\n",
       "    </tr>\n",
       "    <tr>\n",
       "      <th>3</th>\n",
       "      <td>-0.032172</td>\n",
       "      <td>0.139033</td>\n",
       "      <td>2.978566</td>\n",
       "      <td>168.620776</td>\n",
       "    </tr>\n",
       "    <tr>\n",
       "      <th>4</th>\n",
       "      <td>1.988431</td>\n",
       "      <td>0.155413</td>\n",
       "      <td>4.751769</td>\n",
       "      <td>154.036647</td>\n",
       "    </tr>\n",
       "  </tbody>\n",
       "</table>\n",
       "</div>"
      ],
      "text/plain": [
       "         f0        f1        f2     product\n",
       "0  0.705745 -0.497823  1.221170  105.280062\n",
       "1  1.334711 -0.340164  4.365080   73.037750\n",
       "2  1.022732  0.151990  1.419926   85.265647\n",
       "3 -0.032172  0.139033  2.978566  168.620776\n",
       "4  1.988431  0.155413  4.751769  154.036647"
      ]
     },
     "execution_count": 12,
     "metadata": {},
     "output_type": "execute_result"
    }
   ],
   "source": [
    "geo_data_0.head()"
   ]
  },
  {
   "cell_type": "code",
   "execution_count": 13,
   "metadata": {},
   "outputs": [
    {
     "data": {
      "text/html": [
       "<div>\n",
       "<style scoped>\n",
       "    .dataframe tbody tr th:only-of-type {\n",
       "        vertical-align: middle;\n",
       "    }\n",
       "\n",
       "    .dataframe tbody tr th {\n",
       "        vertical-align: top;\n",
       "    }\n",
       "\n",
       "    .dataframe thead th {\n",
       "        text-align: right;\n",
       "    }\n",
       "</style>\n",
       "<table border=\"1\" class=\"dataframe\">\n",
       "  <thead>\n",
       "    <tr style=\"text-align: right;\">\n",
       "      <th></th>\n",
       "      <th>f0</th>\n",
       "      <th>f1</th>\n",
       "      <th>f2</th>\n",
       "      <th>product</th>\n",
       "    </tr>\n",
       "  </thead>\n",
       "  <tbody>\n",
       "    <tr>\n",
       "      <th>0</th>\n",
       "      <td>-15.001348</td>\n",
       "      <td>-8.276000</td>\n",
       "      <td>-0.005876</td>\n",
       "      <td>3.179103</td>\n",
       "    </tr>\n",
       "    <tr>\n",
       "      <th>1</th>\n",
       "      <td>14.272088</td>\n",
       "      <td>-3.475083</td>\n",
       "      <td>0.999183</td>\n",
       "      <td>26.953261</td>\n",
       "    </tr>\n",
       "    <tr>\n",
       "      <th>2</th>\n",
       "      <td>6.263187</td>\n",
       "      <td>-5.948386</td>\n",
       "      <td>5.001160</td>\n",
       "      <td>134.766305</td>\n",
       "    </tr>\n",
       "    <tr>\n",
       "      <th>3</th>\n",
       "      <td>-13.081196</td>\n",
       "      <td>-11.506057</td>\n",
       "      <td>4.999415</td>\n",
       "      <td>137.945408</td>\n",
       "    </tr>\n",
       "    <tr>\n",
       "      <th>4</th>\n",
       "      <td>12.702195</td>\n",
       "      <td>-8.147433</td>\n",
       "      <td>5.004363</td>\n",
       "      <td>134.766305</td>\n",
       "    </tr>\n",
       "  </tbody>\n",
       "</table>\n",
       "</div>"
      ],
      "text/plain": [
       "          f0         f1        f2     product\n",
       "0 -15.001348  -8.276000 -0.005876    3.179103\n",
       "1  14.272088  -3.475083  0.999183   26.953261\n",
       "2   6.263187  -5.948386  5.001160  134.766305\n",
       "3 -13.081196 -11.506057  4.999415  137.945408\n",
       "4  12.702195  -8.147433  5.004363  134.766305"
      ]
     },
     "execution_count": 13,
     "metadata": {},
     "output_type": "execute_result"
    }
   ],
   "source": [
    "geo_data_1.head()"
   ]
  },
  {
   "cell_type": "code",
   "execution_count": 14,
   "metadata": {},
   "outputs": [
    {
     "data": {
      "text/html": [
       "<div>\n",
       "<style scoped>\n",
       "    .dataframe tbody tr th:only-of-type {\n",
       "        vertical-align: middle;\n",
       "    }\n",
       "\n",
       "    .dataframe tbody tr th {\n",
       "        vertical-align: top;\n",
       "    }\n",
       "\n",
       "    .dataframe thead th {\n",
       "        text-align: right;\n",
       "    }\n",
       "</style>\n",
       "<table border=\"1\" class=\"dataframe\">\n",
       "  <thead>\n",
       "    <tr style=\"text-align: right;\">\n",
       "      <th></th>\n",
       "      <th>f0</th>\n",
       "      <th>f1</th>\n",
       "      <th>f2</th>\n",
       "      <th>product</th>\n",
       "    </tr>\n",
       "  </thead>\n",
       "  <tbody>\n",
       "    <tr>\n",
       "      <th>0</th>\n",
       "      <td>-1.146987</td>\n",
       "      <td>0.963328</td>\n",
       "      <td>-0.828965</td>\n",
       "      <td>27.758673</td>\n",
       "    </tr>\n",
       "    <tr>\n",
       "      <th>1</th>\n",
       "      <td>0.262778</td>\n",
       "      <td>0.269839</td>\n",
       "      <td>-2.530187</td>\n",
       "      <td>56.069697</td>\n",
       "    </tr>\n",
       "    <tr>\n",
       "      <th>2</th>\n",
       "      <td>0.194587</td>\n",
       "      <td>0.289035</td>\n",
       "      <td>-5.586433</td>\n",
       "      <td>62.871910</td>\n",
       "    </tr>\n",
       "    <tr>\n",
       "      <th>3</th>\n",
       "      <td>2.236060</td>\n",
       "      <td>-0.553760</td>\n",
       "      <td>0.930038</td>\n",
       "      <td>114.572842</td>\n",
       "    </tr>\n",
       "    <tr>\n",
       "      <th>4</th>\n",
       "      <td>-0.515993</td>\n",
       "      <td>1.716266</td>\n",
       "      <td>5.899011</td>\n",
       "      <td>149.600746</td>\n",
       "    </tr>\n",
       "  </tbody>\n",
       "</table>\n",
       "</div>"
      ],
      "text/plain": [
       "         f0        f1        f2     product\n",
       "0 -1.146987  0.963328 -0.828965   27.758673\n",
       "1  0.262778  0.269839 -2.530187   56.069697\n",
       "2  0.194587  0.289035 -5.586433   62.871910\n",
       "3  2.236060 -0.553760  0.930038  114.572842\n",
       "4 -0.515993  1.716266  5.899011  149.600746"
      ]
     },
     "execution_count": 14,
     "metadata": {},
     "output_type": "execute_result"
    }
   ],
   "source": [
    "geo_data_2.head()"
   ]
  },
  {
   "cell_type": "markdown",
   "metadata": {},
   "source": [
    "ensured irrelevant column was deleted"
   ]
  },
  {
   "cell_type": "code",
   "execution_count": 15,
   "metadata": {
    "scrolled": true
   },
   "outputs": [
    {
     "data": {
      "text/plain": [
       "0"
      ]
     },
     "execution_count": 15,
     "metadata": {},
     "output_type": "execute_result"
    }
   ],
   "source": [
    "geo_data_0.duplicated().sum()"
   ]
  },
  {
   "cell_type": "code",
   "execution_count": 16,
   "metadata": {},
   "outputs": [
    {
     "data": {
      "text/plain": [
       "0"
      ]
     },
     "execution_count": 16,
     "metadata": {},
     "output_type": "execute_result"
    }
   ],
   "source": [
    "geo_data_1.duplicated().sum()"
   ]
  },
  {
   "cell_type": "code",
   "execution_count": 17,
   "metadata": {},
   "outputs": [
    {
     "data": {
      "text/plain": [
       "0"
      ]
     },
     "execution_count": 17,
     "metadata": {},
     "output_type": "execute_result"
    }
   ],
   "source": [
    "geo_data_2.duplicated().sum()"
   ]
  },
  {
   "cell_type": "markdown",
   "metadata": {},
   "source": [
    "ensured there were no exact duplicates that could possibly skew data"
   ]
  },
  {
   "cell_type": "markdown",
   "metadata": {},
   "source": [
    "## EDA"
   ]
  },
  {
   "cell_type": "code",
   "execution_count": 33,
   "metadata": {
    "scrolled": true
   },
   "outputs": [
    {
     "data": {
      "text/plain": [
       "<AxesSubplot:title={'center':'Region 0 product distribution'}, ylabel='Frequency'>"
      ]
     },
     "execution_count": 33,
     "metadata": {},
     "output_type": "execute_result"
    },
    {
     "data": {
      "image/png": "[encoded data removed]",
      "text/plain": [
       "<Figure size 640x480 with 1 Axes>"
      ]
     },
     "metadata": {},
     "output_type": "display_data"
    }
   ],
   "source": [
    "geo_data_0['product'].plot(kind='hist', title='Region 0 product distribution', xlabel='product')"
   ]
  },
  {
   "cell_type": "code",
   "execution_count": 34,
   "metadata": {
    "scrolled": true
   },
   "outputs": [
    {
     "data": {
      "text/plain": [
       "<AxesSubplot:title={'center':'Region 1 product distribution'}, ylabel='Frequency'>"
      ]
     },
     "execution_count": 34,
     "metadata": {},
     "output_type": "execute_result"
    },
    {
     "data": {
      "image/png": "[encoded data removed]",
      "text/plain": [
       "<Figure size 640x480 with 1 Axes>"
      ]
     },
     "metadata": {},
     "output_type": "display_data"
    }
   ],
   "source": [
    "geo_data_1['product'].plot(kind='hist', title='Region 1 product distribution', xlabel='product')"
   ]
  },
  {
   "cell_type": "code",
   "execution_count": 35,
   "metadata": {},
   "outputs": [
    {
     "data": {
      "text/plain": [
       "<AxesSubplot:title={'center':'Region 2 product distribution'}, ylabel='Frequency'>"
      ]
     },
     "execution_count": 35,
     "metadata": {},
     "output_type": "execute_result"
    },
    {
     "data": {
      "image/png": "[encoded data removed]",
      "text/plain": [
       "<Figure size 640x480 with 1 Axes>"
      ]
     },
     "metadata": {},
     "output_type": "display_data"
    }
   ],
   "source": [
    "geo_data_2['product'].plot(kind='hist', title='Region 2 product distribution', xlabel='product')"
   ]
  },
  {
   "cell_type": "markdown",
   "metadata": {},
   "source": [
    "looking at data distribution by region"
   ]
  },
  {
   "cell_type": "markdown",
   "metadata": {},
   "source": [
    "## Training and testing models"
   ]
  },
  {
   "cell_type": "code",
   "execution_count": 36,
   "metadata": {},
   "outputs": [],
   "source": [
    "data = [geo_data_0, geo_data_1, geo_data_2]"
   ]
  },
  {
   "cell_type": "markdown",
   "metadata": {},
   "source": [
    "combined datasets to make the model training process easier"
   ]
  },
  {
   "cell_type": "code",
   "execution_count": 20,
   "metadata": {},
   "outputs": [
    {
     "name": "stdout",
     "output_type": "stream",
     "text": [
      "Region 0\n",
      "mean product amount = 92.50000000000001\n",
      "model RMSE: 37.5794217150813\n",
      "Region 1\n",
      "mean product amount = 68.82500000000002\n",
      "model RMSE: 0.893099286775617\n",
      "Region 2\n",
      "mean product amount = 95.00000000000004\n",
      "model RMSE: 40.02970873393434\n"
     ]
    }
   ],
   "source": [
    "samples_target = []\n",
    "samples_predictions = []\n",
    "for region in range(3):\n",
    "    region_data = data[region]\n",
    "    features = region_data.drop('product', axis=1)\n",
    "    target = region_data['product']\n",
    "    \n",
    "    features_train, features_valid, target_train, target_valid = train_test_split(features, target, test_size=.25, random_state=12345)\n",
    "\n",
    "    model = LinearRegression()\n",
    "    model.fit(features_train, target_train)\n",
    "    predictions = model.predict(features_valid)\n",
    "\n",
    "    samples_target.append(target_valid.reset_index(drop=True))\n",
    "    samples_predictions.append(pd.Series(predictions))\n",
    "\n",
    "    mean_product = target.mean()\n",
    "    model_rmse = mean_squared_error(target_valid, predictions)**.5\n",
    "\n",
    "    print('Region', region)\n",
    "    print('mean product amount =', mean_product)\n",
    "    print('model RMSE:', model_rmse)"
   ]
  },
  {
   "cell_type": "markdown",
   "metadata": {},
   "source": [
    "### Conclusion of models\n",
    "\n",
    "\n",
    "After training models for each region, Region 2 is predicted to have the highest average volume of predicted reserves with Region 0 not far behind. However, the RMSE is fairly high, indicating more error and less precise predictions. Though Region 1 shows significantly less predicted reserves, the RMSE score suggests that this prediction is more accurate than the others.\n",
    "\n",
    "Training models and examining average volume of reserves/RMSE of models is not enough information to suggest the location of new wells, therefore further calculations are necessary."
   ]
  },
  {
   "cell_type": "markdown",
   "metadata": {},
   "source": [
    "## Preparing for profit calculation"
   ]
  },
  {
   "cell_type": "code",
   "execution_count": 21,
   "metadata": {},
   "outputs": [],
   "source": [
    "#dividing by 100 to make calculations easier\n",
    "total_budget_USD = 1000000 \n",
    "cost_per_point = 5000\n",
    "points_per_budget = total_budget_USD // cost_per_point\n",
    "product_price = 45\n",
    "\n",
    "def profit(target, predictions):\n",
    "    predictions_sorted = predictions.sort_values(ascending=False)\n",
    "    selected_points = target[predictions_sorted.index][:points_per_budget]\n",
    "    product = selected_points.sum()\n",
    "    revenue = product * product_price\n",
    "    cost = total_budget_USD\n",
    "    return revenue - cost"
   ]
  },
  {
   "cell_type": "markdown",
   "metadata": {},
   "source": [
    "divided all numbers by 100, created function for calculating product to be used later."
   ]
  },
  {
   "cell_type": "code",
   "execution_count": 22,
   "metadata": {},
   "outputs": [
    {
     "name": "stdout",
     "output_type": "stream",
     "text": [
      "amount of product for 0 profit: 111.11111111111111\n"
     ]
    }
   ],
   "source": [
    "cost_per_point = total_budget_USD / points_per_budget\n",
    "zero_profit_product = cost_per_point / product_price\n",
    "print('amount of product for 0 profit:', zero_profit_product)"
   ]
  },
  {
   "cell_type": "markdown",
   "metadata": {},
   "source": [
    "in order for 0% loss/profit to occur (break even), there must be 11,111.1 product."
   ]
  },
  {
   "cell_type": "markdown",
   "metadata": {},
   "source": [
    "## Calculating profit and risk"
   ]
  },
  {
   "cell_type": "code",
   "execution_count": 24,
   "metadata": {
    "scrolled": true
   },
   "outputs": [
    {
     "name": "stdout",
     "output_type": "stream",
     "text": [
      "Region 0\n",
      "Mean profit: 42593.85269105924\n",
      "95% confidence interval: (-10209.009483793723, 94797.63533583676)\n",
      "Risk of losses: 6.0 %\n",
      "Region 1\n",
      "Mean profit: 51825.9493697325\n",
      "95% confidence interval: (12812.323143308511, 95361.29820669086)\n",
      "Risk of losses: 0.3 %\n",
      "Region 2\n",
      "Mean profit: 42019.40053440501\n",
      "95% confidence interval: (-11585.26091600114, 98962.99398445745)\n",
      "Risk of losses: 6.2 %\n"
     ]
    }
   ],
   "source": [
    "sample_size = 500\n",
    "bootstrap_size = 1000\n",
    "\n",
    "state = np.random.RandomState(12345)\n",
    "\n",
    "for region in range(3):\n",
    "    target = samples_target[region]\n",
    "    predictions = samples_predictions[region]\n",
    "    \n",
    "    profit_values = []\n",
    "    for i in range(bootstrap_size):\n",
    "        target_sample = target.sample(sample_size, replace=True, random_state=state)\n",
    "        predictions_sample = predictions[target_sample.index]\n",
    "        profit_values.append(profit(target_sample, predictions_sample))\n",
    "    profit_values = pd.Series(profit_values)\n",
    "    \n",
    "    mean_profit = profit_values.mean()\n",
    "    confidence_interval = (profit_values.quantile(0.025), profit_values.quantile(0.975))\n",
    "    negative_profit_chance = (profit_values < 0).mean()\n",
    "    \n",
    "    print('Region', region)\n",
    "    print('Mean profit:', mean_profit)\n",
    "    print('95% confidence interval:', confidence_interval)\n",
    "    print('Risk of losses:', negative_profit_chance * 100, '%')\n"
   ]
  },
  {
   "cell_type": "markdown",
   "metadata": {},
   "source": [
    "### Conclusion:\n",
    "\n",
    "After calculating risk of losses and avg profit, I suggest Region 1 for construction of the new wells. Not only is this the only region where risk of losses are under 2.5%, but it also has the highest mean profit and it is the only region where 95% confidence interval does not include negative values."
   ]
  },
  {
   "cell_type": "code",
   "execution_count": null,
   "metadata": {},
   "outputs": [],
   "source": []
  }
 ],
 "metadata": {
  "ExecuteTimeLog": [
   {
    "duration": 1165,
    "start_time": "2024-07-29T22:47:00.731Z"
   },
   {
    "duration": 30,
    "start_time": "2024-07-29T22:48:08.668Z"
   },
   {
    "duration": 409,
    "start_time": "2024-07-29T22:49:11.690Z"
   },
   {
    "duration": 756,
    "start_time": "2024-07-29T22:49:39.982Z"
   },
   {
    "duration": 468,
    "start_time": "2024-07-29T22:50:43.731Z"
   },
   {
    "duration": 19,
    "start_time": "2024-07-29T22:51:19.091Z"
   },
   {
    "duration": 20,
    "start_time": "2024-07-29T22:52:48.750Z"
   },
   {
    "duration": 13,
    "start_time": "2024-07-29T22:53:19.772Z"
   },
   {
    "duration": 18,
    "start_time": "2024-07-29T22:53:36.747Z"
   },
   {
    "duration": 12,
    "start_time": "2024-07-29T22:53:49.352Z"
   },
   {
    "duration": 18,
    "start_time": "2024-07-29T22:54:20.058Z"
   },
   {
    "duration": 1320,
    "start_time": "2024-07-29T23:01:26.317Z"
   },
   {
    "duration": 7,
    "start_time": "2024-07-29T23:01:38.836Z"
   },
   {
    "duration": 6,
    "start_time": "2024-07-29T23:02:02.819Z"
   },
   {
    "duration": 7,
    "start_time": "2024-07-29T23:02:03.345Z"
   },
   {
    "duration": 12,
    "start_time": "2024-07-29T23:02:16.450Z"
   },
   {
    "duration": 12,
    "start_time": "2024-07-29T23:02:32.447Z"
   },
   {
    "duration": 11,
    "start_time": "2024-07-29T23:02:37.419Z"
   },
   {
    "duration": 41,
    "start_time": "2024-07-29T23:04:17.767Z"
   },
   {
    "duration": 31,
    "start_time": "2024-07-29T23:04:33.817Z"
   },
   {
    "duration": 6,
    "start_time": "2024-07-29T23:04:37.750Z"
   },
   {
    "duration": 41,
    "start_time": "2024-07-29T23:04:40.402Z"
   },
   {
    "duration": 42,
    "start_time": "2024-07-29T23:04:58.588Z"
   },
   {
    "duration": 35,
    "start_time": "2024-07-29T23:05:00.556Z"
   },
   {
    "duration": 44,
    "start_time": "2024-07-29T23:05:01.753Z"
   },
   {
    "duration": 1110,
    "start_time": "2024-07-29T23:05:20.751Z"
   },
   {
    "duration": 368,
    "start_time": "2024-07-29T23:05:21.864Z"
   },
   {
    "duration": 21,
    "start_time": "2024-07-29T23:05:22.234Z"
   },
   {
    "duration": 18,
    "start_time": "2024-07-29T23:05:22.259Z"
   },
   {
    "duration": 36,
    "start_time": "2024-07-29T23:05:22.280Z"
   },
   {
    "duration": 18,
    "start_time": "2024-07-29T23:05:22.322Z"
   },
   {
    "duration": 13,
    "start_time": "2024-07-29T23:05:22.343Z"
   },
   {
    "duration": 62,
    "start_time": "2024-07-29T23:05:22.359Z"
   },
   {
    "duration": 7,
    "start_time": "2024-07-29T23:05:22.425Z"
   },
   {
    "duration": 8,
    "start_time": "2024-07-29T23:05:22.439Z"
   },
   {
    "duration": 11,
    "start_time": "2024-07-29T23:05:22.450Z"
   },
   {
    "duration": 49,
    "start_time": "2024-07-29T23:05:22.464Z"
   },
   {
    "duration": 11,
    "start_time": "2024-07-29T23:05:22.516Z"
   },
   {
    "duration": 11,
    "start_time": "2024-07-29T23:05:22.531Z"
   },
   {
    "duration": 71,
    "start_time": "2024-07-29T23:05:22.545Z"
   },
   {
    "duration": 31,
    "start_time": "2024-07-29T23:05:22.619Z"
   },
   {
    "duration": 63,
    "start_time": "2024-07-29T23:05:22.653Z"
   },
   {
    "duration": 311,
    "start_time": "2024-07-29T23:57:00.432Z"
   },
   {
    "duration": 1165,
    "start_time": "2024-07-29T23:57:09.110Z"
   },
   {
    "duration": 487,
    "start_time": "2024-07-29T23:57:10.279Z"
   },
   {
    "duration": 20,
    "start_time": "2024-07-29T23:57:10.768Z"
   },
   {
    "duration": 39,
    "start_time": "2024-07-29T23:57:10.792Z"
   },
   {
    "duration": 13,
    "start_time": "2024-07-29T23:57:10.834Z"
   },
   {
    "duration": 18,
    "start_time": "2024-07-29T23:57:10.851Z"
   },
   {
    "duration": 12,
    "start_time": "2024-07-29T23:57:10.872Z"
   },
   {
    "duration": 59,
    "start_time": "2024-07-29T23:57:10.887Z"
   },
   {
    "duration": 7,
    "start_time": "2024-07-29T23:57:10.949Z"
   },
   {
    "duration": 5,
    "start_time": "2024-07-29T23:57:10.963Z"
   },
   {
    "duration": 6,
    "start_time": "2024-07-29T23:57:10.972Z"
   },
   {
    "duration": 52,
    "start_time": "2024-07-29T23:57:10.981Z"
   },
   {
    "duration": 15,
    "start_time": "2024-07-29T23:57:11.036Z"
   },
   {
    "duration": 11,
    "start_time": "2024-07-29T23:57:11.054Z"
   },
   {
    "duration": 71,
    "start_time": "2024-07-29T23:57:11.068Z"
   },
   {
    "duration": 31,
    "start_time": "2024-07-29T23:57:11.142Z"
   },
   {
    "duration": 59,
    "start_time": "2024-07-29T23:57:11.175Z"
   },
   {
    "duration": 1775,
    "start_time": "2024-07-29T23:57:11.237Z"
   },
   {
    "duration": 6,
    "start_time": "2024-07-29T23:57:31.352Z"
   },
   {
    "duration": 15,
    "start_time": "2024-07-29T23:57:56.283Z"
   },
   {
    "duration": 24,
    "start_time": "2024-07-29T23:58:16.968Z"
   },
   {
    "duration": 6,
    "start_time": "2024-07-29T23:58:19.326Z"
   },
   {
    "duration": 17,
    "start_time": "2024-07-29T23:58:20.835Z"
   },
   {
    "duration": 4,
    "start_time": "2024-07-29T23:58:51.574Z"
   },
   {
    "duration": 15,
    "start_time": "2024-07-30T00:02:22.861Z"
   },
   {
    "duration": 12,
    "start_time": "2024-07-30T00:02:50.655Z"
   },
   {
    "duration": 24,
    "start_time": "2024-07-30T00:05:32.429Z"
   },
   {
    "duration": 19,
    "start_time": "2024-07-30T00:08:54.228Z"
   },
   {
    "duration": 16,
    "start_time": "2024-07-30T00:10:31.375Z"
   },
   {
    "duration": 3,
    "start_time": "2024-07-30T00:11:40.709Z"
   },
   {
    "duration": 6,
    "start_time": "2024-07-30T00:12:21.681Z"
   },
   {
    "duration": 17,
    "start_time": "2024-07-30T00:12:22.129Z"
   },
   {
    "duration": 15,
    "start_time": "2024-07-30T00:12:46.480Z"
   },
   {
    "duration": 6,
    "start_time": "2024-07-30T00:13:39.219Z"
   },
   {
    "duration": 16,
    "start_time": "2024-07-30T00:13:49.765Z"
   },
   {
    "duration": 19,
    "start_time": "2024-07-30T00:14:13.477Z"
   },
   {
    "duration": 15,
    "start_time": "2024-07-30T00:14:26.918Z"
   },
   {
    "duration": 322,
    "start_time": "2024-07-30T19:17:39.764Z"
   },
   {
    "duration": 1184,
    "start_time": "2024-07-30T19:17:46.985Z"
   },
   {
    "duration": 497,
    "start_time": "2024-07-30T19:17:48.172Z"
   },
   {
    "duration": 20,
    "start_time": "2024-07-30T19:17:48.671Z"
   },
   {
    "duration": 39,
    "start_time": "2024-07-30T19:17:48.695Z"
   },
   {
    "duration": 14,
    "start_time": "2024-07-30T19:17:48.737Z"
   },
   {
    "duration": 18,
    "start_time": "2024-07-30T19:17:48.754Z"
   },
   {
    "duration": 50,
    "start_time": "2024-07-30T19:17:48.775Z"
   },
   {
    "duration": 18,
    "start_time": "2024-07-30T19:17:48.828Z"
   },
   {
    "duration": 7,
    "start_time": "2024-07-30T19:17:48.849Z"
   },
   {
    "duration": 6,
    "start_time": "2024-07-30T19:17:48.864Z"
   },
   {
    "duration": 7,
    "start_time": "2024-07-30T19:17:48.873Z"
   },
   {
    "duration": 13,
    "start_time": "2024-07-30T19:17:48.925Z"
   },
   {
    "duration": 12,
    "start_time": "2024-07-30T19:17:48.941Z"
   },
   {
    "duration": 12,
    "start_time": "2024-07-30T19:17:48.956Z"
   },
   {
    "duration": 80,
    "start_time": "2024-07-30T19:17:48.970Z"
   },
   {
    "duration": 30,
    "start_time": "2024-07-30T19:17:49.053Z"
   },
   {
    "duration": 64,
    "start_time": "2024-07-30T19:17:49.087Z"
   },
   {
    "duration": 5,
    "start_time": "2024-07-30T19:17:49.155Z"
   },
   {
    "duration": 20,
    "start_time": "2024-07-30T19:17:49.164Z"
   },
   {
    "duration": 49,
    "start_time": "2024-07-30T19:17:49.187Z"
   },
   {
    "duration": 12,
    "start_time": "2024-07-30T19:17:49.239Z"
   },
   {
    "duration": 21,
    "start_time": "2024-07-30T19:17:49.326Z"
   },
   {
    "duration": 16,
    "start_time": "2024-07-30T19:17:49.427Z"
   },
   {
    "duration": 9,
    "start_time": "2024-07-30T19:17:49.446Z"
   },
   {
    "duration": 80,
    "start_time": "2024-07-30T19:17:49.458Z"
   },
   {
    "duration": 92,
    "start_time": "2024-07-30T19:17:49.544Z"
   },
   {
    "duration": 5,
    "start_time": "2024-07-30T19:17:49.638Z"
   },
   {
    "duration": 4,
    "start_time": "2024-07-30T19:18:40.972Z"
   },
   {
    "duration": 5,
    "start_time": "2024-07-30T19:18:51.135Z"
   },
   {
    "duration": 4,
    "start_time": "2024-07-30T19:19:11.584Z"
   },
   {
    "duration": 1199,
    "start_time": "2024-07-30T20:41:00.425Z"
   },
   {
    "duration": 535,
    "start_time": "2024-07-30T20:41:01.628Z"
   },
   {
    "duration": 21,
    "start_time": "2024-07-30T20:41:02.166Z"
   },
   {
    "duration": 32,
    "start_time": "2024-07-30T20:41:02.191Z"
   },
   {
    "duration": 13,
    "start_time": "2024-07-30T20:41:02.227Z"
   },
   {
    "duration": 19,
    "start_time": "2024-07-30T20:41:02.244Z"
   },
   {
    "duration": 14,
    "start_time": "2024-07-30T20:41:02.308Z"
   },
   {
    "duration": 21,
    "start_time": "2024-07-30T20:41:02.325Z"
   },
   {
    "duration": 7,
    "start_time": "2024-07-30T20:41:02.350Z"
   },
   {
    "duration": 43,
    "start_time": "2024-07-30T20:41:02.364Z"
   },
   {
    "duration": 10,
    "start_time": "2024-07-30T20:41:02.410Z"
   },
   {
    "duration": 13,
    "start_time": "2024-07-30T20:41:02.423Z"
   },
   {
    "duration": 12,
    "start_time": "2024-07-30T20:41:02.439Z"
   },
   {
    "duration": 54,
    "start_time": "2024-07-30T20:41:02.454Z"
   },
   {
    "duration": 49,
    "start_time": "2024-07-30T20:41:02.511Z"
   },
   {
    "duration": 67,
    "start_time": "2024-07-30T20:41:02.563Z"
   },
   {
    "duration": 43,
    "start_time": "2024-07-30T20:41:02.633Z"
   },
   {
    "duration": 6,
    "start_time": "2024-07-30T20:41:02.679Z"
   },
   {
    "duration": 19,
    "start_time": "2024-07-30T20:41:02.708Z"
   },
   {
    "duration": 74,
    "start_time": "2024-07-30T20:41:02.731Z"
   },
   {
    "duration": 8,
    "start_time": "2024-07-30T20:41:02.808Z"
   },
   {
    "duration": 92,
    "start_time": "2024-07-30T20:41:02.819Z"
   },
   {
    "duration": 23,
    "start_time": "2024-07-30T20:41:02.913Z"
   },
   {
    "duration": 6,
    "start_time": "2024-07-30T20:41:02.938Z"
   },
   {
    "duration": 100,
    "start_time": "2024-07-30T20:41:03.006Z"
   },
   {
    "duration": 16,
    "start_time": "2024-07-30T20:41:03.108Z"
   },
   {
    "duration": 6,
    "start_time": "2024-07-30T20:41:03.128Z"
   },
   {
    "duration": 4,
    "start_time": "2024-07-30T20:41:03.206Z"
   },
   {
    "duration": 8,
    "start_time": "2024-07-30T20:41:03.213Z"
   },
   {
    "duration": 4,
    "start_time": "2024-07-30T20:41:10.226Z"
   },
   {
    "duration": 16,
    "start_time": "2024-07-30T20:41:20.382Z"
   },
   {
    "duration": 7,
    "start_time": "2024-07-30T20:42:07.233Z"
   },
   {
    "duration": 395,
    "start_time": "2024-07-30T20:42:10.903Z"
   },
   {
    "duration": 18,
    "start_time": "2024-07-30T20:43:24.589Z"
   },
   {
    "duration": 14,
    "start_time": "2024-07-30T20:43:26.066Z"
   },
   {
    "duration": 21,
    "start_time": "2024-07-30T20:43:29.043Z"
   },
   {
    "duration": 15,
    "start_time": "2024-07-30T20:45:49.572Z"
   },
   {
    "duration": 13,
    "start_time": "2024-07-30T20:46:07.169Z"
   },
   {
    "duration": 19,
    "start_time": "2024-07-30T20:46:09.145Z"
   },
   {
    "duration": 25,
    "start_time": "2024-07-30T20:46:39.554Z"
   },
   {
    "duration": 14,
    "start_time": "2024-07-30T20:46:56.849Z"
   },
   {
    "duration": 14,
    "start_time": "2024-07-30T20:46:58.309Z"
   },
   {
    "duration": 15,
    "start_time": "2024-07-30T20:47:00.404Z"
   },
   {
    "duration": 12,
    "start_time": "2024-07-30T20:49:41.222Z"
   },
   {
    "duration": 13,
    "start_time": "2024-07-30T20:50:08.213Z"
   },
   {
    "duration": 11,
    "start_time": "2024-07-30T20:50:22.279Z"
   },
   {
    "duration": 12,
    "start_time": "2024-07-30T20:50:35.669Z"
   },
   {
    "duration": 12,
    "start_time": "2024-07-30T20:50:45.429Z"
   },
   {
    "duration": 13,
    "start_time": "2024-07-30T20:50:55.141Z"
   },
   {
    "duration": 16,
    "start_time": "2024-07-30T20:51:27.450Z"
   },
   {
    "duration": 1188,
    "start_time": "2024-07-30T20:51:33.734Z"
   },
   {
    "duration": 378,
    "start_time": "2024-07-30T20:51:34.926Z"
   },
   {
    "duration": 21,
    "start_time": "2024-07-30T20:51:35.307Z"
   },
   {
    "duration": 19,
    "start_time": "2024-07-30T20:51:35.331Z"
   },
   {
    "duration": 12,
    "start_time": "2024-07-30T20:51:35.354Z"
   },
   {
    "duration": 17,
    "start_time": "2024-07-30T20:51:35.405Z"
   },
   {
    "duration": 13,
    "start_time": "2024-07-30T20:51:35.425Z"
   },
   {
    "duration": 20,
    "start_time": "2024-07-30T20:51:35.441Z"
   },
   {
    "duration": 43,
    "start_time": "2024-07-30T20:51:35.464Z"
   },
   {
    "duration": 7,
    "start_time": "2024-07-30T20:51:35.511Z"
   },
   {
    "duration": 6,
    "start_time": "2024-07-30T20:51:35.521Z"
   },
   {
    "duration": 12,
    "start_time": "2024-07-30T20:51:35.530Z"
   },
   {
    "duration": 12,
    "start_time": "2024-07-30T20:51:35.546Z"
   },
   {
    "duration": 10,
    "start_time": "2024-07-30T20:51:35.608Z"
   },
   {
    "duration": 39,
    "start_time": "2024-07-30T20:51:35.622Z"
   },
   {
    "duration": 59,
    "start_time": "2024-07-30T20:51:35.664Z"
   },
   {
    "duration": 40,
    "start_time": "2024-07-30T20:51:35.726Z"
   },
   {
    "duration": 6,
    "start_time": "2024-07-30T20:51:35.768Z"
   },
   {
    "duration": 43,
    "start_time": "2024-07-30T20:51:35.776Z"
   },
   {
    "duration": 15,
    "start_time": "2024-07-30T20:51:35.822Z"
   },
   {
    "duration": 68,
    "start_time": "2024-07-30T20:51:35.840Z"
   },
   {
    "duration": 7,
    "start_time": "2024-07-30T20:51:35.911Z"
   },
   {
    "duration": 91,
    "start_time": "2024-07-30T20:51:35.922Z"
   },
   {
    "duration": 13,
    "start_time": "2024-07-30T20:51:36.017Z"
   },
   {
    "duration": 12,
    "start_time": "2024-07-30T20:51:36.033Z"
   },
   {
    "duration": 58,
    "start_time": "2024-07-30T20:51:36.048Z"
   },
   {
    "duration": 20,
    "start_time": "2024-07-30T20:51:36.108Z"
   },
   {
    "duration": 88,
    "start_time": "2024-07-30T20:51:36.130Z"
   },
   {
    "duration": 13,
    "start_time": "2024-07-30T20:51:36.221Z"
   },
   {
    "duration": 5,
    "start_time": "2024-07-30T20:51:36.237Z"
   },
   {
    "duration": 62,
    "start_time": "2024-07-30T20:51:36.245Z"
   },
   {
    "duration": 4,
    "start_time": "2024-07-30T20:51:36.311Z"
   },
   {
    "duration": 412,
    "start_time": "2024-07-30T20:54:02.435Z"
   },
   {
    "duration": 10,
    "start_time": "2024-07-30T20:54:17.089Z"
   },
   {
    "duration": 15,
    "start_time": "2024-07-30T20:55:51.534Z"
   },
   {
    "duration": 10,
    "start_time": "2024-07-30T21:14:10.319Z"
   },
   {
    "duration": 1229,
    "start_time": "2024-08-05T19:37:23.724Z"
   },
   {
    "duration": 499,
    "start_time": "2024-08-05T19:37:24.958Z"
   },
   {
    "duration": 19,
    "start_time": "2024-08-05T19:37:25.460Z"
   },
   {
    "duration": 19,
    "start_time": "2024-08-05T19:37:25.483Z"
   },
   {
    "duration": 36,
    "start_time": "2024-08-05T19:37:25.506Z"
   },
   {
    "duration": 19,
    "start_time": "2024-08-05T19:37:25.545Z"
   },
   {
    "duration": 13,
    "start_time": "2024-08-05T19:37:25.566Z"
   },
   {
    "duration": 55,
    "start_time": "2024-08-05T19:37:25.582Z"
   },
   {
    "duration": 6,
    "start_time": "2024-08-05T19:37:25.640Z"
   },
   {
    "duration": 6,
    "start_time": "2024-08-05T19:37:25.652Z"
   },
   {
    "duration": 7,
    "start_time": "2024-08-05T19:37:25.662Z"
   },
   {
    "duration": 13,
    "start_time": "2024-08-05T19:37:25.672Z"
   },
   {
    "duration": 55,
    "start_time": "2024-08-05T19:37:25.688Z"
   },
   {
    "duration": 12,
    "start_time": "2024-08-05T19:37:25.746Z"
   },
   {
    "duration": 40,
    "start_time": "2024-08-05T19:37:25.762Z"
   },
   {
    "duration": 32,
    "start_time": "2024-08-05T19:37:25.835Z"
   },
   {
    "duration": 38,
    "start_time": "2024-08-05T19:37:25.870Z"
   },
   {
    "duration": 25,
    "start_time": "2024-08-05T19:37:25.911Z"
   },
   {
    "duration": 15,
    "start_time": "2024-08-05T19:44:12.751Z"
   },
   {
    "duration": 7,
    "start_time": "2024-08-05T19:44:28.559Z"
   },
   {
    "duration": 498,
    "start_time": "2024-08-05T19:44:38.789Z"
   },
   {
    "duration": 25,
    "start_time": "2024-08-05T19:50:22.195Z"
   },
   {
    "duration": 4,
    "start_time": "2024-08-05T19:56:50.824Z"
   },
   {
    "duration": 25,
    "start_time": "2024-08-05T19:57:28.910Z"
   },
   {
    "duration": 1192,
    "start_time": "2024-08-05T20:07:09.248Z"
   },
   {
    "duration": 371,
    "start_time": "2024-08-05T20:07:10.443Z"
   },
   {
    "duration": 25,
    "start_time": "2024-08-05T20:07:10.816Z"
   },
   {
    "duration": 20,
    "start_time": "2024-08-05T20:07:10.844Z"
   },
   {
    "duration": 12,
    "start_time": "2024-08-05T20:07:10.867Z"
   },
   {
    "duration": 55,
    "start_time": "2024-08-05T20:07:10.882Z"
   },
   {
    "duration": 12,
    "start_time": "2024-08-05T20:07:10.940Z"
   },
   {
    "duration": 18,
    "start_time": "2024-08-05T20:07:10.955Z"
   },
   {
    "duration": 7,
    "start_time": "2024-08-05T20:07:10.975Z"
   },
   {
    "duration": 6,
    "start_time": "2024-08-05T20:07:10.988Z"
   },
   {
    "duration": 6,
    "start_time": "2024-08-05T20:07:11.036Z"
   },
   {
    "duration": 13,
    "start_time": "2024-08-05T20:07:11.045Z"
   },
   {
    "duration": 11,
    "start_time": "2024-08-05T20:07:11.061Z"
   },
   {
    "duration": 11,
    "start_time": "2024-08-05T20:07:11.076Z"
   },
   {
    "duration": 40,
    "start_time": "2024-08-05T20:07:11.135Z"
   },
   {
    "duration": 31,
    "start_time": "2024-08-05T20:07:11.177Z"
   },
   {
    "duration": 42,
    "start_time": "2024-08-05T20:07:11.234Z"
   },
   {
    "duration": 6,
    "start_time": "2024-08-05T20:07:11.280Z"
   },
   {
    "duration": 48,
    "start_time": "2024-08-05T20:07:11.290Z"
   },
   {
    "duration": 15,
    "start_time": "2024-08-05T20:07:11.340Z"
   },
   {
    "duration": 19,
    "start_time": "2024-08-05T20:07:11.357Z"
   },
   {
    "duration": 59,
    "start_time": "2024-08-05T20:07:11.378Z"
   },
   {
    "duration": 95,
    "start_time": "2024-08-05T20:07:11.439Z"
   },
   {
    "duration": 14,
    "start_time": "2024-08-05T20:07:11.537Z"
   },
   {
    "duration": 13,
    "start_time": "2024-08-05T20:07:11.554Z"
   },
   {
    "duration": 5,
    "start_time": "2024-08-05T20:07:11.570Z"
   },
   {
    "duration": 94,
    "start_time": "2024-08-05T20:07:11.643Z"
   },
   {
    "duration": 13,
    "start_time": "2024-08-05T20:07:11.745Z"
   },
   {
    "duration": 13,
    "start_time": "2024-08-05T20:07:11.760Z"
   },
   {
    "duration": 416,
    "start_time": "2024-08-05T20:12:35.783Z"
   },
   {
    "duration": 32,
    "start_time": "2024-08-05T20:12:49.079Z"
   },
   {
    "duration": 5,
    "start_time": "2024-08-05T20:13:08.094Z"
   },
   {
    "duration": 5,
    "start_time": "2024-08-05T20:13:21.013Z"
   },
   {
    "duration": 1210,
    "start_time": "2024-08-05T23:05:57.291Z"
   },
   {
    "duration": 531,
    "start_time": "2024-08-05T23:05:58.505Z"
   },
   {
    "duration": 28,
    "start_time": "2024-08-05T23:05:59.039Z"
   },
   {
    "duration": 25,
    "start_time": "2024-08-05T23:05:59.071Z"
   },
   {
    "duration": 16,
    "start_time": "2024-08-05T23:05:59.124Z"
   },
   {
    "duration": 21,
    "start_time": "2024-08-05T23:05:59.143Z"
   },
   {
    "duration": 14,
    "start_time": "2024-08-05T23:05:59.168Z"
   },
   {
    "duration": 22,
    "start_time": "2024-08-05T23:05:59.223Z"
   },
   {
    "duration": 7,
    "start_time": "2024-08-05T23:05:59.248Z"
   },
   {
    "duration": 8,
    "start_time": "2024-08-05T23:05:59.263Z"
   },
   {
    "duration": 7,
    "start_time": "2024-08-05T23:05:59.275Z"
   },
   {
    "duration": 13,
    "start_time": "2024-08-05T23:05:59.325Z"
   },
   {
    "duration": 14,
    "start_time": "2024-08-05T23:05:59.343Z"
   },
   {
    "duration": 14,
    "start_time": "2024-08-05T23:05:59.362Z"
   },
   {
    "duration": 59,
    "start_time": "2024-08-05T23:05:59.423Z"
   },
   {
    "duration": 59,
    "start_time": "2024-08-05T23:05:59.485Z"
   },
   {
    "duration": 48,
    "start_time": "2024-08-05T23:05:59.547Z"
   },
   {
    "duration": 26,
    "start_time": "2024-08-05T23:05:59.601Z"
   },
   {
    "duration": 551,
    "start_time": "2024-08-05T23:05:59.631Z"
   },
   {
    "duration": 0,
    "start_time": "2024-08-05T23:06:00.185Z"
   },
   {
    "duration": 0,
    "start_time": "2024-08-05T23:06:00.187Z"
   },
   {
    "duration": 0,
    "start_time": "2024-08-05T23:06:00.189Z"
   },
   {
    "duration": 0,
    "start_time": "2024-08-05T23:06:00.191Z"
   },
   {
    "duration": 0,
    "start_time": "2024-08-05T23:06:00.193Z"
   },
   {
    "duration": 0,
    "start_time": "2024-08-05T23:06:00.195Z"
   },
   {
    "duration": 0,
    "start_time": "2024-08-05T23:06:00.196Z"
   },
   {
    "duration": 0,
    "start_time": "2024-08-05T23:06:00.224Z"
   },
   {
    "duration": 0,
    "start_time": "2024-08-05T23:06:00.226Z"
   },
   {
    "duration": 0,
    "start_time": "2024-08-05T23:06:00.229Z"
   },
   {
    "duration": 0,
    "start_time": "2024-08-05T23:06:00.231Z"
   },
   {
    "duration": 0,
    "start_time": "2024-08-05T23:06:00.234Z"
   },
   {
    "duration": 0,
    "start_time": "2024-08-05T23:06:00.236Z"
   },
   {
    "duration": 0,
    "start_time": "2024-08-05T23:06:00.238Z"
   },
   {
    "duration": 0,
    "start_time": "2024-08-05T23:06:00.240Z"
   },
   {
    "duration": 3,
    "start_time": "2024-08-05T23:07:17.387Z"
   },
   {
    "duration": 12,
    "start_time": "2024-08-05T23:07:36.692Z"
   },
   {
    "duration": 1369,
    "start_time": "2024-08-05T23:11:45.013Z"
   },
   {
    "duration": 11,
    "start_time": "2024-08-05T23:12:03.458Z"
   },
   {
    "duration": 4,
    "start_time": "2024-08-05T23:12:14.113Z"
   },
   {
    "duration": 30,
    "start_time": "2024-08-05T23:12:14.901Z"
   },
   {
    "duration": 34,
    "start_time": "2024-08-05T23:12:42.851Z"
   },
   {
    "duration": 35,
    "start_time": "2024-08-05T23:12:58.972Z"
   },
   {
    "duration": 176,
    "start_time": "2024-08-05T23:13:33.149Z"
   },
   {
    "duration": 25,
    "start_time": "2024-08-05T23:13:48.356Z"
   },
   {
    "duration": 163,
    "start_time": "2024-08-05T23:17:59.961Z"
   },
   {
    "duration": 6,
    "start_time": "2024-08-05T23:18:28.613Z"
   },
   {
    "duration": 4,
    "start_time": "2024-08-05T23:23:27.790Z"
   },
   {
    "duration": 1155,
    "start_time": "2024-08-06T15:01:53.386Z"
   },
   {
    "duration": 486,
    "start_time": "2024-08-06T15:01:54.545Z"
   },
   {
    "duration": 20,
    "start_time": "2024-08-06T15:01:55.034Z"
   },
   {
    "duration": 20,
    "start_time": "2024-08-06T15:01:55.057Z"
   },
   {
    "duration": 45,
    "start_time": "2024-08-06T15:01:55.081Z"
   },
   {
    "duration": 18,
    "start_time": "2024-08-06T15:01:55.129Z"
   },
   {
    "duration": 12,
    "start_time": "2024-08-06T15:01:55.151Z"
   },
   {
    "duration": 58,
    "start_time": "2024-08-06T15:01:55.167Z"
   },
   {
    "duration": 6,
    "start_time": "2024-08-06T15:01:55.229Z"
   },
   {
    "duration": 6,
    "start_time": "2024-08-06T15:01:55.239Z"
   },
   {
    "duration": 6,
    "start_time": "2024-08-06T15:01:55.248Z"
   },
   {
    "duration": 11,
    "start_time": "2024-08-06T15:01:55.257Z"
   },
   {
    "duration": 55,
    "start_time": "2024-08-06T15:01:55.271Z"
   },
   {
    "duration": 10,
    "start_time": "2024-08-06T15:01:55.332Z"
   },
   {
    "duration": 39,
    "start_time": "2024-08-06T15:01:55.346Z"
   },
   {
    "duration": 60,
    "start_time": "2024-08-06T15:01:55.388Z"
   },
   {
    "duration": 41,
    "start_time": "2024-08-06T15:01:55.451Z"
   },
   {
    "duration": 3,
    "start_time": "2024-08-06T15:01:55.495Z"
   },
   {
    "duration": 11,
    "start_time": "2024-08-06T15:01:55.526Z"
   },
   {
    "duration": 551,
    "start_time": "2024-08-06T15:01:55.540Z"
   },
   {
    "duration": 0,
    "start_time": "2024-08-06T15:01:56.094Z"
   },
   {
    "duration": 0,
    "start_time": "2024-08-06T15:01:56.096Z"
   },
   {
    "duration": 0,
    "start_time": "2024-08-06T15:01:56.098Z"
   },
   {
    "duration": 203,
    "start_time": "2024-08-06T15:03:52.536Z"
   },
   {
    "duration": 1179,
    "start_time": "2024-08-06T15:03:59.659Z"
   },
   {
    "duration": 363,
    "start_time": "2024-08-06T15:04:00.841Z"
   },
   {
    "duration": 25,
    "start_time": "2024-08-06T15:04:01.207Z"
   },
   {
    "duration": 20,
    "start_time": "2024-08-06T15:04:01.236Z"
   },
   {
    "duration": 12,
    "start_time": "2024-08-06T15:04:01.259Z"
   },
   {
    "duration": 54,
    "start_time": "2024-08-06T15:04:01.274Z"
   },
   {
    "duration": 12,
    "start_time": "2024-08-06T15:04:01.333Z"
   },
   {
    "duration": 18,
    "start_time": "2024-08-06T15:04:01.349Z"
   },
   {
    "duration": 6,
    "start_time": "2024-08-06T15:04:01.370Z"
   },
   {
    "duration": 46,
    "start_time": "2024-08-06T15:04:01.384Z"
   },
   {
    "duration": 7,
    "start_time": "2024-08-06T15:04:01.433Z"
   },
   {
    "duration": 13,
    "start_time": "2024-08-06T15:04:01.444Z"
   },
   {
    "duration": 13,
    "start_time": "2024-08-06T15:04:01.461Z"
   },
   {
    "duration": 49,
    "start_time": "2024-08-06T15:04:01.476Z"
   },
   {
    "duration": 40,
    "start_time": "2024-08-06T15:04:01.528Z"
   },
   {
    "duration": 56,
    "start_time": "2024-08-06T15:04:01.571Z"
   },
   {
    "duration": 44,
    "start_time": "2024-08-06T15:04:01.630Z"
   },
   {
    "duration": 4,
    "start_time": "2024-08-06T15:04:01.676Z"
   },
   {
    "duration": 12,
    "start_time": "2024-08-06T15:04:01.683Z"
   },
   {
    "duration": 302,
    "start_time": "2024-08-06T15:04:01.727Z"
   },
   {
    "duration": 6,
    "start_time": "2024-08-06T15:04:02.032Z"
   },
   {
    "duration": 5,
    "start_time": "2024-08-06T15:04:02.041Z"
   },
   {
    "duration": 546,
    "start_time": "2024-08-06T15:04:02.049Z"
   },
   {
    "duration": 5663,
    "start_time": "2024-08-06T15:04:52.537Z"
   },
   {
    "duration": 5646,
    "start_time": "2024-08-06T15:05:24.993Z"
   },
   {
    "duration": 164,
    "start_time": "2024-08-06T15:07:34.864Z"
   },
   {
    "duration": 1209,
    "start_time": "2024-08-06T15:21:10.935Z"
   },
   {
    "duration": 384,
    "start_time": "2024-08-06T15:21:12.148Z"
   },
   {
    "duration": 21,
    "start_time": "2024-08-06T15:21:12.534Z"
   },
   {
    "duration": 19,
    "start_time": "2024-08-06T15:21:12.558Z"
   },
   {
    "duration": 45,
    "start_time": "2024-08-06T15:21:12.581Z"
   },
   {
    "duration": 19,
    "start_time": "2024-08-06T15:21:12.629Z"
   },
   {
    "duration": 13,
    "start_time": "2024-08-06T15:21:12.650Z"
   },
   {
    "duration": 19,
    "start_time": "2024-08-06T15:21:12.667Z"
   },
   {
    "duration": 39,
    "start_time": "2024-08-06T15:21:12.689Z"
   },
   {
    "duration": 7,
    "start_time": "2024-08-06T15:21:12.731Z"
   },
   {
    "duration": 9,
    "start_time": "2024-08-06T15:21:12.741Z"
   },
   {
    "duration": 11,
    "start_time": "2024-08-06T15:21:12.753Z"
   },
   {
    "duration": 11,
    "start_time": "2024-08-06T15:21:12.767Z"
   },
   {
    "duration": 11,
    "start_time": "2024-08-06T15:21:12.829Z"
   },
   {
    "duration": 41,
    "start_time": "2024-08-06T15:21:12.843Z"
   },
   {
    "duration": 56,
    "start_time": "2024-08-06T15:21:12.886Z"
   },
   {
    "duration": 39,
    "start_time": "2024-08-06T15:21:12.945Z"
   },
   {
    "duration": 5,
    "start_time": "2024-08-06T15:21:12.989Z"
   },
   {
    "duration": 35,
    "start_time": "2024-08-06T15:21:12.997Z"
   },
   {
    "duration": 202,
    "start_time": "2024-08-06T15:21:13.035Z"
   },
   {
    "duration": 6,
    "start_time": "2024-08-06T15:21:13.240Z"
   },
   {
    "duration": 88,
    "start_time": "2024-08-06T15:21:13.248Z"
   },
   {
    "duration": 5700,
    "start_time": "2024-08-06T15:21:13.339Z"
   },
   {
    "duration": 5663,
    "start_time": "2024-08-06T15:29:26.805Z"
   },
   {
    "duration": 411,
    "start_time": "2024-08-06T15:35:43.072Z"
   },
   {
    "duration": 5843,
    "start_time": "2024-08-06T15:35:48.400Z"
   },
   {
    "duration": 5689,
    "start_time": "2024-08-06T15:35:57.745Z"
   },
   {
    "duration": 5676,
    "start_time": "2024-08-06T16:07:01.020Z"
   },
   {
    "duration": 1180,
    "start_time": "2024-08-06T16:07:28.735Z"
   },
   {
    "duration": 374,
    "start_time": "2024-08-06T16:07:29.918Z"
   },
   {
    "duration": 20,
    "start_time": "2024-08-06T16:07:30.295Z"
   },
   {
    "duration": 20,
    "start_time": "2024-08-06T16:07:30.329Z"
   },
   {
    "duration": 13,
    "start_time": "2024-08-06T16:07:30.351Z"
   },
   {
    "duration": 58,
    "start_time": "2024-08-06T16:07:30.368Z"
   },
   {
    "duration": 13,
    "start_time": "2024-08-06T16:07:30.428Z"
   },
   {
    "duration": 19,
    "start_time": "2024-08-06T16:07:30.444Z"
   },
   {
    "duration": 6,
    "start_time": "2024-08-06T16:07:30.467Z"
   },
   {
    "duration": 45,
    "start_time": "2024-08-06T16:07:30.481Z"
   },
   {
    "duration": 8,
    "start_time": "2024-08-06T16:07:30.529Z"
   },
   {
    "duration": 12,
    "start_time": "2024-08-06T16:07:30.540Z"
   },
   {
    "duration": 12,
    "start_time": "2024-08-06T16:07:30.555Z"
   },
   {
    "duration": 11,
    "start_time": "2024-08-06T16:07:30.570Z"
   },
   {
    "duration": 40,
    "start_time": "2024-08-06T16:07:30.627Z"
   },
   {
    "duration": 33,
    "start_time": "2024-08-06T16:07:30.669Z"
   },
   {
    "duration": 39,
    "start_time": "2024-08-06T16:07:30.727Z"
   },
   {
    "duration": 4,
    "start_time": "2024-08-06T16:07:30.769Z"
   },
   {
    "duration": 12,
    "start_time": "2024-08-06T16:07:30.776Z"
   },
   {
    "duration": 213,
    "start_time": "2024-08-06T16:07:30.826Z"
   },
   {
    "duration": 5,
    "start_time": "2024-08-06T16:07:31.042Z"
   },
   {
    "duration": 76,
    "start_time": "2024-08-06T16:07:31.050Z"
   },
   {
    "duration": 5660,
    "start_time": "2024-08-06T16:07:31.130Z"
   },
   {
    "duration": 4846,
    "start_time": "2024-08-06T16:12:13.921Z"
   },
   {
    "duration": 3932,
    "start_time": "2024-08-06T16:20:44.566Z"
   },
   {
    "duration": 501,
    "start_time": "2024-08-06T16:21:47.742Z"
   },
   {
    "duration": 28,
    "start_time": "2024-08-06T16:22:57.027Z"
   },
   {
    "duration": 27,
    "start_time": "2024-08-06T16:23:02.468Z"
   },
   {
    "duration": 265,
    "start_time": "2024-08-06T16:24:09.218Z"
   },
   {
    "duration": 26,
    "start_time": "2024-08-06T16:24:56.850Z"
   },
   {
    "duration": 222,
    "start_time": "2024-08-06T16:25:08.836Z"
   },
   {
    "duration": 235,
    "start_time": "2024-08-06T16:25:29.158Z"
   },
   {
    "duration": 241,
    "start_time": "2024-08-06T16:25:55.026Z"
   },
   {
    "duration": 304,
    "start_time": "2024-08-06T16:26:12.772Z"
   },
   {
    "duration": 229,
    "start_time": "2024-08-06T16:26:23.886Z"
   },
   {
    "duration": 4,
    "start_time": "2024-08-06T16:27:19.719Z"
   }
  ],
  "kernelspec": {
   "display_name": "Python 3 (ipykernel)",
   "language": "python",
   "name": "python3"
  },
  "language_info": {
   "codemirror_mode": {
    "name": "ipython",
    "version": 3
   },
   "file_extension": ".py",
   "mimetype": "text/x-python",
   "name": "python",
   "nbconvert_exporter": "python",
   "pygments_lexer": "ipython3",
   "version": "3.9.19"
  },
  "toc": {
   "base_numbering": 1,
   "nav_menu": {},
   "number_sections": true,
   "sideBar": true,
   "skip_h1_title": true,
   "title_cell": "Table of Contents",
   "title_sidebar": "Contents",
   "toc_cell": false,
   "toc_position": {},
   "toc_section_display": true,
   "toc_window_display": false
  }
 },
 "nbformat": 4,
 "nbformat_minor": 2
}
